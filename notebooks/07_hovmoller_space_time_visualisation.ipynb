{
 "cells": [
  {
   "cell_type": "markdown",
   "metadata": {
    "deletable": true,
    "editable": true
   },
   "source": [
    "## Visualising variation in space and time (Hovmoller plot)\n",
    "\n",
    "This notebook describes how to generate a space-time (Hovmoller plot) visualisation of NDVI, the example shown here is for the Mitchell River in Queensland.  The river channel migrates, and a Hovmoller plot generated from a transect that crosses the river shows the channel migration and associated vegetation changes."
   ]
  },
  {
   "cell_type": "code",
   "execution_count": null,
   "metadata": {
    "ExecuteTime": {
     "end_time": "2016-06-09T11:09:06.502514",
     "start_time": "2016-06-09T11:09:04.805211"
    },
    "collapsed": false,
    "deletable": true,
    "editable": true
   },
   "outputs": [],
   "source": [
    "%pylab notebook\n",
    "from __future__ import print_function\n",
    "import datacube\n",
    "import xarray as xr\n",
    "from datacube.storage import masking\n",
    "from datacube.storage.masking import mask_to_dict\n",
    "from matplotlib import pyplot as plt\n",
    "from IPython.display import display\n",
    "import ipywidgets as widgets"
   ]
  },
  {
   "cell_type": "code",
   "execution_count": null,
   "metadata": {
    "ExecuteTime": {
     "end_time": "2016-06-09T11:09:07.599525",
     "start_time": "2016-06-09T11:09:07.553759"
    },
    "collapsed": false,
    "deletable": true,
    "editable": true
   },
   "outputs": [],
   "source": [
    "dc = datacube.Datacube(app='linear extraction for Hovmoller plot')"
   ]
  },
  {
   "cell_type": "code",
   "execution_count": null,
   "metadata": {
    "collapsed": false,
    "deletable": true,
    "editable": true
   },
   "outputs": [],
   "source": [
    "#### DEFINE SPATIOTEMPORAL RANGE AND BANDS OF INTEREST\n",
    "#Use this to manually define an upper left/lower right coords\n",
    "\n",
    "\n",
    "#Define temporal range\n",
    "start_of_epoch = '1998-01-01'\n",
    "end_of_epoch =  '2016-12-31'\n",
    "\n",
    "#Define wavelengths/bands of interest, remove this kwarg to retrieve all bands\n",
    "bands_of_interest = [#'blue',\n",
    "                     'green',\n",
    "                     'red', \n",
    "                     'nir',\n",
    "                     'swir1', \n",
    "                     #'swir2'\n",
    "                     ]\n",
    "\n",
    "#Define sensors of interest\n",
    "sensors = ['ls8', 'ls7', 'ls5'] \n",
    "\n",
    "query = {'time': (start_of_epoch, end_of_epoch)}\n",
    "lat_max = -15.94\n",
    "lat_min = -15.98\n",
    "lon_max = 142.49522\n",
    "lon_min = 142.4485\n",
    "\n",
    "query['x'] = (lon_min, lon_max)\n",
    "query['y'] = (lat_max, lat_min)\n",
    "query['crs'] = 'EPSG:4326'"
   ]
  },
  {
   "cell_type": "code",
   "execution_count": null,
   "metadata": {
    "collapsed": false,
    "deletable": true,
    "editable": true
   },
   "outputs": [],
   "source": [
    "print(query)"
   ]
  },
  {
   "cell_type": "markdown",
   "metadata": {
    "deletable": true,
    "editable": true
   },
   "source": [
    "# retrieve the NBAR and PQ for the spatiotemporal range of interest\n"
   ]
  },
  {
   "cell_type": "code",
   "execution_count": null,
   "metadata": {
    "collapsed": false,
    "deletable": true,
    "editable": true
   },
   "outputs": [],
   "source": [
    "#Define which pixel quality artefacts you want removed from the results\n",
    "mask_components = {'cloud_acca':'no_cloud',\n",
    "'cloud_shadow_acca' :'no_cloud_shadow',\n",
    "'cloud_shadow_fmask' : 'no_cloud_shadow',\n",
    "'cloud_fmask' :'no_cloud',\n",
    "'blue_saturated' : False,\n",
    "'green_saturated' : False,\n",
    "'red_saturated' : False,\n",
    "'nir_saturated' : False,\n",
    "'swir1_saturated' : False,\n",
    "'swir2_saturated' : False,\n",
    "'contiguous':True}"
   ]
  },
  {
   "cell_type": "code",
   "execution_count": null,
   "metadata": {
    "ExecuteTime": {
     "end_time": "2016-06-09T11:09:49.335761",
     "start_time": "2016-06-09T11:09:32.888099"
    },
    "collapsed": false,
    "deletable": true,
    "editable": true,
    "scrolled": true
   },
   "outputs": [],
   "source": [
    "#Retrieve the NBAR and PQ data for sensor n\n",
    "sensor_clean = {}\n",
    "for sensor in sensors:\n",
    "    #Load the NBAR and corresponding PQ\n",
    "    sensor_nbar = dc.load(product= sensor+'_nbar_albers', group_by='solar_day', measurements = bands_of_interest,  **query)\n",
    "    sensor_pq = dc.load(product= sensor+'_pq_albers', group_by='solar_day',  **query)\n",
    "    #grab the projection info before masking/sorting\n",
    "    crs = sensor_nbar.crs\n",
    "    crswkt = sensor_nbar.crs.wkt\n",
    "    affine = sensor_nbar.affine\n",
    "    #This line is to make sure there's PQ to go with the NBAR\n",
    "    sensor_nbar = sensor_nbar.sel(time = sensor_pq.time)\n",
    "    #Apply the PQ masks to the NBAR\n",
    "    cloud_free = masking.make_mask(sensor_pq, **mask_components)\n",
    "    good_data = cloud_free.pixelquality.loc[start_of_epoch:end_of_epoch]\n",
    "    sensor_nbar = sensor_nbar.where(good_data)\n",
    "    sensor_clean[sensor] = sensor_nbar"
   ]
  },
  {
   "cell_type": "code",
   "execution_count": null,
   "metadata": {
    "collapsed": false,
    "deletable": true,
    "editable": true
   },
   "outputs": [],
   "source": [
    "#Conctanate measurements from the different sensors together\n",
    "nbar_clean = xr.concat(sensor_clean.values(), dim='time')\n",
    "time_sorted = nbar_clean.time.argsort()\n",
    "nbar_clean = nbar_clean.isel(time=time_sorted)\n",
    "nbar_clean.attrs['crs'] = crs\n",
    "nbar_clean.attrs['affine'] = affine\n",
    "#calculate the normalised difference vegetation index  (NDVI)\n",
    "all_ndvi_sorted = ((nbar_clean.nir - nbar_clean.red)/(nbar_clean.nir + nbar_clean.red))"
   ]
  },
  {
   "cell_type": "code",
   "execution_count": null,
   "metadata": {
    "collapsed": false,
    "deletable": true,
    "editable": true
   },
   "outputs": [],
   "source": [
    "print('The number of time slices at this location is '+ str(nbar_clean.red.shape[0]))"
   ]
  },
  {
   "cell_type": "markdown",
   "metadata": {
    "deletable": true,
    "editable": true
   },
   "source": [
    "## Plotting an image, select a location for extracting the hovmoller plot\n",
    "The interactive widget allows you to select a location (x, y coordinates), the plot will then show all of the time series that fall into the same x coordinate."
   ]
  },
  {
   "cell_type": "code",
   "execution_count": null,
   "metadata": {
    "collapsed": false,
    "deletable": true,
    "editable": true
   },
   "outputs": [],
   "source": [
    "#select time slice of interest - this is trial and error until you get a decent image\n",
    "time_slice_i = 481\n",
    "rgb = nbar_clean.isel(time =time_slice_i).to_array(dim='color').sel(color=['swir1', 'nir', 'green']).transpose('y', 'x', 'color')\n",
    "#rgb = nbar_clean.isel(time =time_slice).to_array(dim='color').sel(color=['swir1', 'nir', 'green']).transpose('y', 'x', 'color')\n",
    "fake_saturation = 4500\n",
    "clipped_visible = rgb.where(rgb<fake_saturation).fillna(fake_saturation)\n",
    "max_val = clipped_visible.max(['y', 'x'])\n",
    "scaled = (clipped_visible / max_val)"
   ]
  },
  {
   "cell_type": "code",
   "execution_count": null,
   "metadata": {
    "collapsed": false,
    "deletable": true,
    "editable": true
   },
   "outputs": [],
   "source": [
    "#Click on this image to chose the location for time series extraction\n",
    "w = widgets.HTML(\"Event information appears here when you click on the figure\")\n",
    "def callback(event):\n",
    "    global x, y\n",
    "    x, y = int(event.xdata + 0.5), int(event.ydata + 0.5)\n",
    "    w.value = 'X: {}, Y: {}'.format(x,y)\n",
    "\n",
    "fig = plt.figure(figsize =(12,6))\n",
    "plt.imshow(scaled, interpolation = 'nearest',\n",
    "           extent=[scaled.coords['x'].min(), scaled.coords['x'].max(), \n",
    "                   scaled.coords['y'].min(), scaled.coords['y'].max()])\n",
    "\n",
    "fig.canvas.mpl_connect('button_press_event', callback)\n",
    "date_ = nbar_clean.time[time_slice_i]\n",
    "plt.title(date_.astype('datetime64[D]'))\n",
    "plt.show()\n",
    "display(w)"
   ]
  },
  {
   "cell_type": "code",
   "execution_count": null,
   "metadata": {
    "collapsed": false,
    "deletable": true,
    "editable": true
   },
   "outputs": [],
   "source": [
    "#this converts the map x coordinate into image x coordinates\n",
    "image_coords = ~affine * (x, y)\n",
    "imagex = int(image_coords[0])\n",
    "imagey = int(image_coords[1])\n",
    "\n",
    "\n",
    "#This sets up the NDVI colour ramp and corresponding thresholds\n",
    "ndvi_cmap = mpl.colors.ListedColormap(['blue', '#ffcc66','#ffffcc' , '#ccff66' , '#2eb82e', '#009933' , '#006600'])\n",
    "ndvi_bounds = [-1, 0, 0.1, 0.25, 0.35, 0.5, 0.8, 1]\n",
    "ndvi_norm = mpl.colors.BoundaryNorm(ndvi_bounds, ndvi_cmap.N)"
   ]
  },
  {
   "cell_type": "code",
   "execution_count": null,
   "metadata": {
    "collapsed": false,
    "deletable": true,
    "editable": true
   },
   "outputs": [],
   "source": [
    "#This cell shows the x transect that you've chosen in the context of an NDVI image with a suitable colour ramp\n",
    "fig = plt.figure(figsize=(11.69,4))\n",
    "plt.plot([0, all_ndvi_sorted.shape[2]], [imagey,imagey], 'r')\n",
    "plt.imshow(all_ndvi_sorted.isel(time = time_slice_i), cmap = ndvi_cmap, norm = ndvi_norm)\n"
   ]
  },
  {
   "cell_type": "code",
   "execution_count": null,
   "metadata": {
    "collapsed": false,
    "deletable": true,
    "editable": true
   },
   "outputs": [],
   "source": [
    "#Hovmoller plot for the x transect\n",
    "fig = plt.figure(figsize=(11.69,7))\n",
    "all_ndvi_sorted.isel(#x=[xdim],\n",
    "                     y=[imagey]\n",
    "                     ).plot(norm= ndvi_norm, cmap = ndvi_cmap, yincrease = False)"
   ]
  },
  {
   "cell_type": "code",
   "execution_count": null,
   "metadata": {
    "collapsed": true,
    "deletable": true,
    "editable": true
   },
   "outputs": [],
   "source": []
  }
 ],
 "metadata": {
  "kernelspec": {
   "display_name": "Python 2",
   "language": "python",
   "name": "python2"
  },
  "language_info": {
   "codemirror_mode": {
    "name": "ipython",
    "version": 2
   },
   "file_extension": ".py",
   "mimetype": "text/x-python",
   "name": "python",
   "nbconvert_exporter": "python",
   "pygments_lexer": "ipython2",
   "version": "2.7.12"
  },
  "toc": {
   "toc_cell": false,
   "toc_number_sections": false,
   "toc_threshold": 6,
   "toc_window_display": true
  },
  "widgets": {
   "state": {
    "cfb57ac3502744dd9549a01a567e525e": {
     "views": [
      {
       "cell_index": 12
      }
     ]
    }
   },
   "version": "1.2.0"
  }
 },
 "nbformat": 4,
 "nbformat_minor": 0
}
