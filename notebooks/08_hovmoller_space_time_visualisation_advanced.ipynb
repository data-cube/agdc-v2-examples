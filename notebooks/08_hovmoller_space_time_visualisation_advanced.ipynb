{
 "cells": [
  {
   "cell_type": "markdown",
   "metadata": {
    "collapsed": true,
    "deletable": true,
    "editable": true
   },
   "source": [
    "# Advanced Hovmoller plot from user supplied vector\n"
   ]
  },
  {
   "cell_type": "markdown",
   "metadata": {
    "deletable": true,
    "editable": true
   },
   "source": [
    "This notebook demonstrates how to open a polyline vector file (.shp format) and generate a Hovmoller plot of NDVI for that polyline"
   ]
  },
  {
   "cell_type": "code",
   "execution_count": null,
   "metadata": {
    "ExecuteTime": {
     "end_time": "2016-06-09T11:09:06.502514",
     "start_time": "2016-06-09T11:09:04.805211"
    },
    "collapsed": false,
    "deletable": true,
    "editable": true
   },
   "outputs": [],
   "source": [
    "%pylab notebook\n",
    "from __future__ import print_function\n",
    "import datacube\n",
    "import xarray as xr\n",
    "from datacube.storage import masking\n",
    "from datacube.storage.masking import mask_to_dict\n",
    "from matplotlib.backends.backend_pdf import PdfPages\n",
    "from matplotlib import pyplot as plt\n",
    "import matplotlib.dates\n",
    "import fiona\n",
    "import shapely\n",
    "import shapely.geometry\n",
    "from shapely.geometry import shape\n",
    "import rasterio"
   ]
  },
  {
   "cell_type": "code",
   "execution_count": null,
   "metadata": {
    "ExecuteTime": {
     "end_time": "2016-06-09T11:09:07.599525",
     "start_time": "2016-06-09T11:09:07.553759"
    },
    "collapsed": false,
    "deletable": true,
    "editable": true
   },
   "outputs": [],
   "source": [
    "dc = datacube.Datacube(app='dc-Hovmoller polyline example')\n"
   ]
  },
  {
   "cell_type": "code",
   "execution_count": null,
   "metadata": {
    "collapsed": true,
    "deletable": true,
    "editable": true
   },
   "outputs": [],
   "source": [
    "#This defines the function that converts a linear vector file into a string of x,y coordinates\n",
    "def geom_query(geom, geom_crs='EPSG:4326'):\n",
    "    \"\"\"\n",
    "    Create datacube query snippet for geometry\n",
    "    \"\"\"\n",
    "    return {\n",
    "        'x': (geom.bounds[0], geom.bounds[2]),\n",
    "        'y': (geom.bounds[1], geom.bounds[3]),\n",
    "        'crs': geom_crs\n",
    "    }\n",
    "\n",
    "\n",
    "def warp_geometry(geom, crs_crs, dst_crs):\n",
    "    \"\"\"\n",
    "    warp geometry from crs_crs to dst_crs\n",
    "    \"\"\"\n",
    "    return shapely.geometry.shape(rasterio.warp.transform_geom(crs_crs, dst_crs, shapely.geometry.mapping(geom)))\n",
    "\n",
    "\n",
    "def transect(data, geom, resolution, method='nearest', tolerance=None):\n",
    "    \"\"\"\n",
    "    \n",
    "    \"\"\"\n",
    "    dist = [i for i in range(0, int(geom.length), resolution)]\n",
    "    points = zip(*[geom.interpolate(d).coords[0] for d in dist])\n",
    "    indexers = {\n",
    "        data.crs.dimensions[0]: list(points[1]),\n",
    "        data.crs.dimensions[1]: list(points[0])        \n",
    "    }\n",
    "    return data.sel_points(xr.DataArray(dist, name='distance', dims=['distance']),\n",
    "                           method=method,\n",
    "                           tolerance=tolerance,\n",
    "                           **indexers)"
   ]
  },
  {
   "cell_type": "code",
   "execution_count": null,
   "metadata": {
    "collapsed": false,
    "deletable": true,
    "editable": true
   },
   "outputs": [],
   "source": [
    "#### DEFINE SPATIOTEMPORAL RANGE AND BANDS OF INTEREST\n",
    "#Select polyline, replacing /g/... with /*your_path_here*/your_file.shp\n",
    "\n",
    "vec_fname = '/g/data/r78/lxl554/hovmoller/Mary River1.shp' \n",
    "\n",
    "src = fiona.open(vec_fname)\n",
    "geom = shape(src[0]['geometry'])\n",
    "\n",
    "#Define temporal range\n",
    "start_of_epoch = '1987-01-01'\n",
    "#need a variable here that defines a rolling 'latest observation'\n",
    "end_of_epoch =  '2016-12-31'\n",
    "\n",
    "#Define wavelengths/bands of interest, remove this kwarg to retrieve all bands\n",
    "bands_of_interest = [#'blue',\n",
    "                     'green',\n",
    "                     'red', \n",
    "                     'nir',\n",
    "                     'swir1', \n",
    "                     #'swir2'\n",
    "                     ]\n",
    "\n",
    "#Define sensors of interest\n",
    "sensors  = ['ls8','ls7','ls5']\n",
    "\n",
    "query = {'time': (start_of_epoch, end_of_epoch),}\n",
    "query.update(geom_query(geom)) \n",
    "query['crs'] = 'EPSG:4326'"
   ]
  },
  {
   "cell_type": "code",
   "execution_count": null,
   "metadata": {
    "collapsed": false,
    "deletable": true,
    "editable": true
   },
   "outputs": [],
   "source": [
    "print(query)"
   ]
  },
  {
   "cell_type": "code",
   "execution_count": null,
   "metadata": {
    "collapsed": false,
    "deletable": true,
    "editable": true
   },
   "outputs": [],
   "source": [
    "#Group PQ by solar day to avoid idiosyncracies of N/S overlap differences in PQ algorithm performance\n",
    "pq_albers_product = dc.index.products.get_by_name(sensors[0]+'_pq_albers')\n",
    "valid_bit = pq_albers_product.measurements['pixelquality']['flags_definition']['contiguous']['bits']\n",
    "\n",
    "def pq_fuser(dest, src):\n",
    "    valid_val = (1 << valid_bit)\n",
    "\n",
    "    no_data_dest_mask = ~(dest & valid_val).astype(bool)\n",
    "    np.copyto(dest, src, where=no_data_dest_mask)\n",
    "\n",
    "    both_data_mask = (valid_val & dest & src).astype(bool)\n",
    "    np.copyto(dest, src & dest, where=both_data_mask)"
   ]
  },
  {
   "cell_type": "code",
   "execution_count": null,
   "metadata": {
    "collapsed": true,
    "deletable": true,
    "editable": true
   },
   "outputs": [],
   "source": [
    "#Define which pixel quality artefacts you want removed from the results\n",
    "mask_components = {'cloud_acca':'no_cloud',\n",
    "'cloud_shadow_acca' :'no_cloud_shadow',\n",
    "'cloud_shadow_fmask' : 'no_cloud_shadow',\n",
    "'cloud_fmask' :'no_cloud',\n",
    "'blue_saturated' : False,\n",
    "'green_saturated' : False,\n",
    "'red_saturated' : False,\n",
    "'nir_saturated' : False,\n",
    "'swir1_saturated' : False,\n",
    "'swir2_saturated' : False,\n",
    "'contiguous':True}"
   ]
  },
  {
   "cell_type": "markdown",
   "metadata": {
    "deletable": true,
    "editable": true
   },
   "source": [
    "# retrieve the NBAR and PQ for the spatiotemporal range of interest\n"
   ]
  },
  {
   "cell_type": "code",
   "execution_count": null,
   "metadata": {
    "collapsed": false,
    "deletable": true,
    "editable": true
   },
   "outputs": [],
   "source": [
    "#Retrieve the NBAR and PQ data for sensor n\n",
    "sensor_clean = {}\n",
    "for sensor in sensors:\n",
    "    #Load the NBAR and corresponding PQ\n",
    "    sensor_nbar = dc.load(product= sensor+'_nbar_albers', group_by='solar_day', measurements = bands_of_interest,  **query)\n",
    "    sensor_pq = dc.load(product= sensor+'_pq_albers', group_by='solar_day', fuse_func=pq_fuser, **query)\n",
    "    #grab the projection info before masking/sorting\n",
    "    crs = sensor_nbar.crs\n",
    "    crswkt = sensor_nbar.crs.wkt\n",
    "    affine = sensor_nbar.affine\n",
    "    #This line is to make sure there's PQ to go with the NBAR\n",
    "    sensor_nbar = sensor_nbar.sel(time = sensor_pq.time)\n",
    "    #Apply the PQ masks to the NBAR\n",
    "    cloud_free = masking.make_mask(sensor_pq, **mask_components)\n",
    "    good_data = cloud_free.pixelquality.loc[start_of_epoch:end_of_epoch]\n",
    "    sensor_nbar = sensor_nbar.where(good_data)\n",
    "    sensor_clean[sensor] = sensor_nbar"
   ]
  },
  {
   "cell_type": "code",
   "execution_count": null,
   "metadata": {
    "collapsed": true,
    "deletable": true,
    "editable": true
   },
   "outputs": [],
   "source": [
    "#Concatenate the data from different sensors together and sort by time\n",
    "nbar_clean = xr.concat(sensor_clean.values(), dim='time')\n",
    "time_sorted = nbar_clean.time.argsort()\n",
    "nbar_clean = nbar_clean.isel(time=time_sorted)\n",
    "nbar_clean.attrs['crs'] = crs\n",
    "nbar_clean.attrs['affine'] = affine\n",
    "\n",
    "#Extract the hovmoller data volume\n",
    "geom_w = warp_geometry(geom, query['crs'], crs.wkt)\n",
    "hov = transect(nbar_clean, geom_w, 25)"
   ]
  },
  {
   "cell_type": "markdown",
   "metadata": {
    "deletable": true,
    "editable": true
   },
   "source": [
    "## Plotting an image, view the transect and select a location to retrieve a time series"
   ]
  },
  {
   "cell_type": "code",
   "execution_count": null,
   "metadata": {
    "collapsed": false,
    "deletable": true,
    "editable": true
   },
   "outputs": [],
   "source": [
    "print('The number of time slices at this location is '+ str(nbar_clean.red.shape[0]))"
   ]
  },
  {
   "cell_type": "code",
   "execution_count": null,
   "metadata": {
    "collapsed": false,
    "deletable": true,
    "editable": true
   },
   "outputs": [],
   "source": [
    "#select time slice of interest - this is trial and error until you get a decent image\n",
    "time_slice_i = 550\n",
    "rgb = nbar_clean.isel(time =time_slice_i).to_array(dim='color').sel(color=['swir1', 'nir', 'green']).transpose('y', 'x', 'color')\n",
    "#rgb = nbar_clean.isel(time =time_slice).to_array(dim='color').sel(color=['swir1', 'nir', 'green']).transpose('y', 'x', 'color')\n",
    "fake_saturation = 4500\n",
    "clipped_visible = rgb.where(rgb<fake_saturation).fillna(fake_saturation)\n",
    "max_val = clipped_visible.max(['y', 'x'])\n",
    "scaled = (clipped_visible / max_val)"
   ]
  },
  {
   "cell_type": "code",
   "execution_count": null,
   "metadata": {
    "collapsed": false,
    "deletable": true,
    "editable": true
   },
   "outputs": [],
   "source": [
    "#View the polyline vector on the imagery\n",
    "fig = plt.figure(figsize =(12,6))\n",
    "plt.scatter(x=hov.coords['x'], y=hov.coords['y'], c='r') #turn this on or off to show location of transect\n",
    "plt.imshow(scaled, interpolation = 'nearest',\n",
    "           extent=[scaled.coords['x'].min(), scaled.coords['x'].max(), \n",
    "                   scaled.coords['y'].min(), scaled.coords['y'].max()])\n",
    "\n",
    "date_ = nbar_clean.time[time_slice_i]\n",
    "plt.title(date_.astype('datetime64[D]'))\n",
    "plt.show()"
   ]
  },
  {
   "cell_type": "markdown",
   "metadata": {
    "deletable": true,
    "editable": true
   },
   "source": [
    "### View a hovmoller plot for the transect"
   ]
  },
  {
   "cell_type": "code",
   "execution_count": null,
   "metadata": {
    "collapsed": false,
    "deletable": true,
    "editable": true
   },
   "outputs": [],
   "source": [
    "#Calculate NDVI\n",
    "hov_ndvi = ((hov.nir-hov.red)/(hov.nir+hov.red))\n",
    "\n",
    "#Set up an NDVI colour ramp \n",
    "ndvi_cmap = mpl.colors.ListedColormap(['blue', '#ffcc66','#ffffcc' , '#ccff66' , '#2eb82e', '#009933' , '#006600'])\n",
    "ndvi_bounds = [-1, 0, 0.1, 0.25, 0.35, 0.5, 0.8, 1]\n",
    "ndvi_norm = mpl.colors.BoundaryNorm(ndvi_bounds, ndvi_cmap.N)\n",
    "\n",
    "#Generate the Hovmoller plot\n",
    "fig = plt.figure(figsize=(8.27,11.69))\n",
    "hov_ndvi.plot(x='distance', y='time', yincrease = False, cmap = ndvi_cmap, norm = ndvi_norm)"
   ]
  },
  {
   "cell_type": "code",
   "execution_count": null,
   "metadata": {
    "collapsed": false,
    "deletable": true,
    "editable": true
   },
   "outputs": [],
   "source": [
    "# You'll notice that there are some rows that contain very few observations and make the plot harder to interpret\n",
    "# Set the percentage of good data that you'd like to display with pernan variable - 0.9 will return rows that have 90%\n",
    "# of valid values\n",
    "\n",
    "pernan = 0.9\n",
    "hov_ndvi_drop = hov_ndvi.dropna('time',  thresh = int(pernan*hov.distance.size))\n",
    "fig = plt.figure(figsize=(8.27,11.69))\n",
    "hov_ndvi_drop.plot(x='distance', y='time', yincrease = False, cmap = ndvi_cmap, norm = ndvi_norm)"
   ]
  },
  {
   "cell_type": "code",
   "execution_count": null,
   "metadata": {
    "collapsed": false,
    "deletable": true,
    "editable": true
   },
   "outputs": [],
   "source": [
    "#You can check below to see the number of time slices dropped\n",
    "print('The number of time slices unfiltered = '+ str(hov_ndvi.time.size))\n",
    "print('The number of time slices filtered = ' + str(hov_ndvi_drop.time.size))"
   ]
  },
  {
   "cell_type": "code",
   "execution_count": null,
   "metadata": {
    "collapsed": false,
    "deletable": true,
    "editable": true
   },
   "outputs": [],
   "source": [
    "#Use firstyear and lastyear to zoom into periods of interest\n",
    "firstyearhov = '1995-01-01'\n",
    "lastyearhov = '2015-12-31'\n",
    "fig = plt.figure(figsize=(8.27,11.69))\n",
    "hov_ndvi_drop.plot(x='distance', y='time', yincrease = False, cmap = ndvi_cmap, norm = ndvi_norm)\n",
    "plt.axis([0, hov_ndvi_drop.distance.max(), lastyearhov , firstyearhov])\n"
   ]
  },
  {
   "cell_type": "code",
   "execution_count": null,
   "metadata": {
    "collapsed": true,
    "deletable": true,
    "editable": true
   },
   "outputs": [],
   "source": []
  }
 ],
 "metadata": {
  "anaconda-cloud": {},
  "kernelspec": {
   "display_name": "Python 2",
   "language": "python",
   "name": "python2"
  },
  "language_info": {
   "codemirror_mode": {
    "name": "ipython",
    "version": 2
   },
   "file_extension": ".py",
   "mimetype": "text/x-python",
   "name": "python",
   "nbconvert_exporter": "python",
   "pygments_lexer": "ipython2",
   "version": "2.7.12"
  },
  "toc": {
   "toc_cell": false,
   "toc_number_sections": false,
   "toc_threshold": 6,
   "toc_window_display": true
  }
 },
 "nbformat": 4,
 "nbformat_minor": 0
}
