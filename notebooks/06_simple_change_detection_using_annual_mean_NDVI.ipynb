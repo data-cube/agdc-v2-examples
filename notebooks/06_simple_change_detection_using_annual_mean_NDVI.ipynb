{
 "cells": [
  {
   "cell_type": "markdown",
   "metadata": {
    "collapsed": true,
    "deletable": true,
    "editable": true
   },
   "source": [
    "# Simple change detection using annual mean NDVI"
   ]
  },
  {
   "cell_type": "markdown",
   "metadata": {
    "deletable": true,
    "editable": true
   },
   "source": [
    "This example notebook describes how to retrieve data for a small region and epoch of interest, concatenate data from available sensors and calculate the annual mean NDVI values.  You can then select a location of interest based on the change between years, retrieve an NDVI time series for that location and select imagery from before and after the change event"
   ]
  },
  {
   "cell_type": "code",
   "execution_count": 1,
   "metadata": {
    "ExecuteTime": {
     "end_time": "2016-06-09T11:09:06.502514",
     "start_time": "2016-06-09T11:09:04.805211"
    },
    "collapsed": false,
    "deletable": true,
    "editable": true
   },
   "outputs": [
    {
     "name": "stdout",
     "output_type": "stream",
     "text": [
      "Populating the interactive namespace from numpy and matplotlib\n"
     ]
    }
   ],
   "source": [
    "%pylab notebook\n",
    "from __future__ import print_function\n",
    "import datacube\n",
    "import xarray as xr\n",
    "from datacube.helpers import ga_pq_fuser\n",
    "from datacube.storage import masking\n",
    "from datacube.storage.masking import mask_to_dict\n",
    "from matplotlib.backends.backend_pdf import PdfPages\n",
    "from matplotlib import pyplot as plt\n",
    "import matplotlib.dates\n",
    "from IPython.display import display\n",
    "import ipywidgets as widgets\n",
    "import rasterio"
   ]
  },
  {
   "cell_type": "code",
   "execution_count": 2,
   "metadata": {
    "ExecuteTime": {
     "end_time": "2016-06-09T11:09:07.599525",
     "start_time": "2016-06-09T11:09:07.553759"
    },
    "collapsed": false,
    "deletable": true,
    "editable": true
   },
   "outputs": [],
   "source": [
    "dc = datacube.Datacube(app='dc-show changes in annual mean NDVI values')"
   ]
  },
  {
   "cell_type": "code",
   "execution_count": 3,
   "metadata": {
    "collapsed": false,
    "deletable": true,
    "editable": true
   },
   "outputs": [],
   "source": [
    "#### DEFINE SPATIOTEMPORAL RANGE AND BANDS OF INTEREST\n",
    "#Use this to manually define an upper left/lower right coords\n",
    "#Either as polygon or as lat/lon range\n",
    "\n",
    "#Define temporal range\n",
    "start_of_epoch = '2008-01-01'\n",
    "#need a variable here that defines a rolling 'latest observation'\n",
    "end_of_epoch =  '2013-12-31'\n",
    "\n",
    "#Define wavelengths/bands of interest, remove this kwarg to retrieve all bands\n",
    "bands_of_interest = [#'blue',\n",
    "                     'green',\n",
    "                     'red', \n",
    "                     'nir',\n",
    "                     'swir1', \n",
    "                     #'swir2'\n",
    "                     ]\n",
    "\n",
    "#Define sensors of interest, # out sensors that aren't relevant for the time period\n",
    "sensors = [\n",
    "    'ls8', #May 2013 to present\n",
    "    'ls7', #1999 to present\n",
    "    'ls5' #1986 to present, full contintal coverage from 1987 onwards\n",
    "        ] \n",
    "\n",
    "\n",
    "query = {\n",
    "    'time': (start_of_epoch, end_of_epoch),\n",
    "}\n",
    "\n",
    "#The example shown here is for the Black Saturday Fires in Victoria, but you can update with coordinates for\n",
    "#your area of interest\n",
    "lat_max = -37.42\n",
    "lat_min = -37.6\n",
    "lon_max = 145.35\n",
    "lon_min = 145.1     \n",
    "query['x'] = (lon_min, lon_max)\n",
    "query['y'] = (lat_max, lat_min)\n",
    "query['crs'] = 'EPSG:4326'"
   ]
  },
  {
   "cell_type": "code",
   "execution_count": 4,
   "metadata": {
    "collapsed": false,
    "deletable": true,
    "editable": true
   },
   "outputs": [
    {
     "name": "stdout",
     "output_type": "stream",
     "text": [
      "{'y': (-37.42, -37.6), 'time': ('2008-01-01', '2013-12-31'), 'x': (145.1, 145.35), 'crs': 'EPSG:4326'}\n"
     ]
    }
   ],
   "source": [
    "print(query)"
   ]
  },
  {
   "cell_type": "markdown",
   "metadata": {
    "deletable": true,
    "editable": true
   },
   "source": [
    "## PQ and Index preparation\n"
   ]
  },
  {
   "cell_type": "code",
   "execution_count": 5,
   "metadata": {
    "collapsed": true,
    "deletable": true,
    "editable": true
   },
   "outputs": [],
   "source": [
    "#Define which pixel quality artefacts you want removed from the results\n",
    "mask_components = {'cloud_acca':'no_cloud',\n",
    "'cloud_shadow_acca' :'no_cloud_shadow',\n",
    "'cloud_shadow_fmask' : 'no_cloud_shadow',\n",
    "'cloud_fmask' :'no_cloud',\n",
    "'blue_saturated' : False,\n",
    "'green_saturated' : False,\n",
    "'red_saturated' : False,\n",
    "'nir_saturated' : False,\n",
    "'swir1_saturated' : False,\n",
    "'swir2_saturated' : False,\n",
    "'contiguous':True}"
   ]
  },
  {
   "cell_type": "code",
   "execution_count": 6,
   "metadata": {
    "collapsed": false,
    "deletable": true,
    "editable": true
   },
   "outputs": [],
   "source": [
    "#Retrieve the NBAR and PQ data for sensor n\n",
    "sensor_clean = {}\n",
    "for sensor in sensors:\n",
    "    #Load the NBAR and corresponding PQ\n",
    "    sensor_nbar = dc.load(product= sensor+'_nbar_albers', group_by='solar_day', measurements = bands_of_interest,  **query)\n",
    "    sensor_pq = dc.load(product= sensor+'_pq_albers', group_by='solar_day', fuse_func=ga_pq_fuser, **query)\n",
    "    #grab the projection info before masking/sorting\n",
    "    crs = sensor_nbar.crs\n",
    "    crswkt = sensor_nbar.crs.wkt\n",
    "    affine = sensor_nbar.affine\n",
    "    #Apply the PQ masks to the NBAR\n",
    "    cloud_free = masking.make_mask(sensor_pq, **mask_components)\n",
    "    good_data = cloud_free.pixelquality.loc[start_of_epoch:end_of_epoch]\n",
    "    sensor_nbar = sensor_nbar.where(good_data)\n",
    "    sensor_clean[sensor] = sensor_nbar"
   ]
  },
  {
   "cell_type": "code",
   "execution_count": null,
   "metadata": {
    "collapsed": false,
    "deletable": true,
    "editable": true
   },
   "outputs": [],
   "source": [
    "#Concatenate data from different sensors together and sort so that observations are sorted by time rather\n",
    "# than sensor\n",
    "nbar_clean = xr.concat(sensor_clean.values(), dim='time')\n",
    "time_sorted = nbar_clean.time.argsort()\n",
    "nbar_clean = nbar_clean.isel(time=time_sorted)\n",
    "nbar_clean.attrs['crs'] = crs\n",
    "nbar_clean.attrs['affine'] = affine"
   ]
  },
  {
   "cell_type": "code",
   "execution_count": null,
   "metadata": {
    "collapsed": false,
    "deletable": true,
    "editable": true
   },
   "outputs": [],
   "source": [
    "#Calculate NDVI\n",
    "ndvi = ((nbar_clean.nir-nbar_clean.red)/(nbar_clean.nir+nbar_clean.red))\n",
    "\n",
    "#This controls the colour maps used for plotting NDVI\n",
    "ndvi_cmap = mpl.colors.ListedColormap(['blue', '#ffcc66','#ffffcc' , '#ccff66' , '#2eb82e', '#009933' , '#006600'])\n",
    "ndvi_bounds = [-1, 0, 0.1, 0.25, 0.35, 0.5, 0.8, 1]\n",
    "ndvi_norm = mpl.colors.BoundaryNorm(ndvi_bounds, ndvi_cmap.N)\n",
    "ndvi.attrs['crs'] = crs\n",
    "ndvi.attrs['affine'] = affine\n",
    "\n",
    "#Calculate annual average NDVI values\n",
    "annual_ndvi = ndvi.groupby('time.year')\n",
    "annual_mean = annual_ndvi.mean(dim = 'time') #The .mean argument here can be replaced by max, min, median\n",
    "#but you'll need to update the code below here accordingly"
   ]
  },
  {
   "cell_type": "markdown",
   "metadata": {
    "deletable": true,
    "editable": true
   },
   "source": [
    "## Plotting an image, view the transect and select a location to retrieve a time series"
   ]
  },
  {
   "cell_type": "code",
   "execution_count": null,
   "metadata": {
    "collapsed": false,
    "deletable": true,
    "editable": true
   },
   "outputs": [],
   "source": [
    "fig = plt.figure()\n",
    "#Plot the mean NDVI values for a year of interest (yoi)\n",
    "#Dark green = high amounts of green vegetation through to yellows and oranges being lower amounts of vegetation,\n",
    "#Blue indicates a NDVI < 0 typically associated with water\n",
    "yoi = 2009\n",
    "plt.title('Average annual NDVI for '+str(yoi))\n",
    "arr_yoi = annual_mean.sel(year =yoi)\n",
    "plt.imshow(arr_yoi.squeeze(), interpolation = 'nearest', cmap = ndvi_cmap, norm = ndvi_norm)\n",
    "\"\"\"           extent=[scaled.coords['x'].min(), scaled.coords['x'].max(), \n",
    "                   scaled.coords['y'].min(), scaled.coords['y'].max()])\"\"\""
   ]
  },
  {
   "cell_type": "code",
   "execution_count": null,
   "metadata": {
    "collapsed": false,
    "deletable": true,
    "editable": true
   },
   "outputs": [],
   "source": [
    "#Calculate the difference between in mean NDVI between two years, a reference year and a change year\n",
    "\n",
    "fig = plt.figure()\n",
    "#Define the year you wish to use as a reference point\n",
    "ref_year = 2008\n",
    "#Define the year you wish to use to detect change\n",
    "change_year = 2009\n",
    "nd_ref_year = annual_mean.sel(year = (ref_year))\n",
    "nd_change_year =annual_mean.sel(year = (change_year))\n",
    "nd_dif = nd_change_year - nd_ref_year\n",
    "nd_dif.plot(cmap = 'RdYlGn')\n",
    "#Click on this image to chose the location for time series extraction\n",
    "w = widgets.HTML(\"Event information appears here when you click on the figure\")\n",
    "def callback(event):\n",
    "    global x, y\n",
    "    x, y = int(event.xdata + 0.5), int(event.ydata + 0.5)\n",
    "    w.value = 'X: {}, Y: {}'.format(x,y)\n",
    "\n",
    "fig.canvas.mpl_connect('button_press_event', callback)\n",
    "plt.title('Change in mean NDVI between '+str(ref_year)+' and '+str(change_year))\n",
    "plt.show()\n",
    "display(w)"
   ]
  },
  {
   "cell_type": "markdown",
   "metadata": {
    "deletable": true,
    "editable": true
   },
   "source": [
    "## This section is for viewing a time series of NDVI - and retrieving the image that corresponds with a particular point on a time series"
   ]
  },
  {
   "cell_type": "code",
   "execution_count": null,
   "metadata": {
    "collapsed": false,
    "deletable": true,
    "editable": true
   },
   "outputs": [],
   "source": [
    "#this converts the map x coordinate into image x coordinates\n",
    "image_coords = ~affine * (x, y)\n",
    "imagex = int(image_coords[0])\n",
    "imagey = int(image_coords[1])\n",
    "\n",
    "#retrieve the time series for the pixel location clicked above\n",
    "ts_ndvi = ndvi.isel(x=[imagex],y=[imagey]).dropna('time', how = 'any')"
   ]
  },
  {
   "cell_type": "code",
   "execution_count": null,
   "metadata": {
    "collapsed": false,
    "deletable": true,
    "editable": true,
    "scrolled": false
   },
   "outputs": [],
   "source": [
    "#Use this plot to visualise a time series and select the image that corresponds with a point in the time series\n",
    "def callback(event):\n",
    "    global time_int, devent\n",
    "    devent = event\n",
    "    time_int = event.xdata\n",
    "    #time_int_ = time_int.astype(datetime64[D])\n",
    "    w.value = 'time_int: {}'.format(time_int)\n",
    "\n",
    "fig = plt.figure(figsize=(8,5))\n",
    "fig.canvas.mpl_connect('button_press_event', callback)\n",
    "plt.show()\n",
    "display(w)\n",
    "\n",
    "#firstyear = '2010-01-01'\n",
    "#lastyear = '2014-12-31'\n",
    "ts_ndvi.plot(linestyle= '--', c= 'b', marker = '8', mec = 'b', mfc ='r')\n",
    "plt.grid()\n",
    "\n",
    "#plt.axis([firstyear , lastyear ,0, 1])"
   ]
  },
  {
   "cell_type": "code",
   "execution_count": null,
   "metadata": {
    "collapsed": false,
    "deletable": true,
    "editable": true
   },
   "outputs": [],
   "source": [
    "#Convert the point clicked in the time series to a date and retrieve the corresponding image\n",
    "time_slice = matplotlib.dates.num2date(time_int).date()\n",
    "rgb = nbar_clean.sel(time =time_slice, method = 'nearest').to_array(dim='color').sel(color=['swir1', 'nir', 'green']).transpose('y', 'x', 'color')\n",
    "fake_saturation = 6000\n",
    "clipped_visible = rgb.where(rgb<fake_saturation).fillna(fake_saturation)\n",
    "max_val = clipped_visible.max(['y', 'x'])\n",
    "scaled = (clipped_visible / max_val)"
   ]
  },
  {
   "cell_type": "code",
   "execution_count": null,
   "metadata": {
    "collapsed": false,
    "deletable": true,
    "editable": true
   },
   "outputs": [],
   "source": [
    "#This image shows the time slice of choice and the location of the time series \n",
    "fig = plt.figure(figsize =(12,6))\n",
    "#plt.scatter(x=trans.coords['x'], y=trans.coords['y'], c='r')\n",
    "plt.scatter(x = [x], y = [y], c= 'yellow', marker = 'D')\n",
    "plt.imshow(scaled, interpolation = 'nearest',\n",
    "           extent=[scaled.coords['x'].min(), scaled.coords['x'].max(), \n",
    "                   scaled.coords['y'].min(), scaled.coords['y'].max()])\n",
    "plt.title(time_slice)\n",
    "plt.show()"
   ]
  },
  {
   "cell_type": "code",
   "execution_count": null,
   "metadata": {
    "collapsed": true,
    "deletable": true,
    "editable": true
   },
   "outputs": [],
   "source": []
  }
 ],
 "metadata": {
  "anaconda-cloud": {},
  "kernelspec": {
   "display_name": "Python 3",
   "language": "python",
   "name": "python3"
  },
  "language_info": {
   "codemirror_mode": {
    "name": "ipython",
    "version": 3
   },
   "file_extension": ".py",
   "mimetype": "text/x-python",
   "name": "python",
   "nbconvert_exporter": "python",
   "pygments_lexer": "ipython3",
   "version": "3.5.3"
  },
  "toc": {
   "toc_cell": false,
   "toc_number_sections": false,
   "toc_threshold": 6,
   "toc_window_display": true
  },
  "widgets": {
   "state": {
    "6882f0c278914deaa453a7cf21075ad8": {
     "views": [
      {
       "cell_index": 13
      },
      {
       "cell_index": 16
      }
     ]
    }
   },
   "version": "1.2.0"
  }
 },
 "nbformat": 4,
 "nbformat_minor": 0
}
