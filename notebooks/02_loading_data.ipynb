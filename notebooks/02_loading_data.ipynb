{
 "cells": [
  {
   "cell_type": "markdown",
   "metadata": {
    "deletable": true,
    "editable": true
   },
   "source": [
    "# Loading data from the datacube\n",
    "\n",
    "This notebook will briefly discuss how to load data from the datacube."
   ]
  },
  {
   "cell_type": "markdown",
   "metadata": {
    "deletable": true,
    "editable": true
   },
   "source": [
    "### Importing the datacube\n",
    "\n",
    "To start with, we'll import the datacube module and load an instance of the datacube and call our application name *load-data-example*."
   ]
  },
  {
   "cell_type": "code",
   "execution_count": 1,
   "metadata": {
    "collapsed": true,
    "deletable": true,
    "editable": true
   },
   "outputs": [],
   "source": [
    "import datacube\n",
    "dc = datacube.Datacube(app='load-data-example')"
   ]
  },
  {
   "cell_type": "markdown",
   "metadata": {
    "deletable": true,
    "editable": true
   },
   "source": [
    "### Loading data\n",
    "\n",
    "Loading data from the datacube uses the *load* function.\n",
    "\n",
    "The function takes several arguments:\n",
    "* *product*; A specifc product to load\n",
    "* *x*; Defines the spatial region in the *x* dimension\n",
    "* *y*; Defines the spatial region in the *y* dimension\n",
    "* *time*; Defines the temporal extent.\n",
    "\n",
    "We'll load the Landsat 5-TM, **N**adir **B**i-directional reflectance ristribution function **A**djusted **R**eflectance, for the spatial region covering:\n",
    "\n",
    "* 149.25 -> 149.5 degrees longitude\n",
    "* -36.25 -> -36.5 degrees latitude\n",
    "\n",
    "and a temporal extent covering:\n",
    "\n",
    "* 2008-01-01 -> 2009-01-01"
   ]
  },
  {
   "cell_type": "code",
   "execution_count": 2,
   "metadata": {
    "collapsed": true,
    "deletable": true,
    "editable": true
   },
   "outputs": [],
   "source": [
    "data = dc.load(product='ls5_nbar_albers', x=(149.25, 149.5), y=(-36.25, -36.5),\n",
    "               time=('2008-01-01', '2009-01-01'))"
   ]
  },
  {
   "cell_type": "code",
   "execution_count": 3,
   "metadata": {
    "collapsed": false,
    "deletable": true,
    "editable": true
   },
   "outputs": [
    {
     "data": {
      "text/plain": [
       "<xarray.Dataset>\n",
       "Dimensions:  (time: 7, x: 1041, y: 1221)\n",
       "Coordinates:\n",
       "  * time     (time) datetime64[ns] 2008-01-15T23:41:48.500000 ...\n",
       "  * y        (y) float64 -4.066e+06 -4.066e+06 -4.066e+06 -4.066e+06 ...\n",
       "  * x        (x) float64 1.543e+06 1.543e+06 1.543e+06 1.543e+06 1.543e+06 ...\n",
       "Data variables:\n",
       "    blue     (time, y, x) int16 3326 3326 3326 3326 3326 3326 3326 3326 3326 ...\n",
       "    green    (time, y, x) int16 6061 5882 5942 5853 5942 5972 6150 7088 7493 ...\n",
       "    red      (time, y, x) int16 5943 5792 5767 5717 5868 5792 6194 6370 6370 ...\n",
       "    nir      (time, y, x) int16 6678 6434 6504 6364 6504 6434 6749 7932 8866 ...\n",
       "    swir1    (time, y, x) int16 3155 2939 3179 3035 3323 3418 3825 4926 6002 ...\n",
       "    swir2    (time, y, x) int16 1784 1618 1884 1718 1884 1984 2350 3182 4113 ...\n",
       "Attributes:\n",
       "    crs: EPSG:3577"
      ]
     },
     "execution_count": 3,
     "metadata": {},
     "output_type": "execute_result"
    }
   ],
   "source": [
    "data"
   ]
  },
  {
   "cell_type": "markdown",
   "metadata": {
    "deletable": true,
    "editable": true
   },
   "source": [
    "### Load data via a products native co-ordinate system\n",
    "\n",
    "By default, the *x* and *y* arguments accept queries in a geographical co-ordinate system identified by the EPSG code *4326*, which is the same as within Google Earth.\n",
    "\n",
    "The user can also query via the native co-ordinate system that the product is stored in, and supply the *crs* argument."
   ]
  },
  {
   "cell_type": "code",
   "execution_count": 4,
   "metadata": {
    "collapsed": false,
    "deletable": true,
    "editable": true
   },
   "outputs": [],
   "source": [
    "data = dc.load(product='ls5_nbar_albers', x=(1543137.5, 1569137.5), y=(-4065537.5, -4096037.5),\n",
    "               time=('2008-01-01', '2009-01-01'), crs='EPSG:3577')"
   ]
  },
  {
   "cell_type": "code",
   "execution_count": 5,
   "metadata": {
    "collapsed": false,
    "deletable": true,
    "editable": true
   },
   "outputs": [
    {
     "data": {
      "text/plain": [
       "<xarray.Dataset>\n",
       "Dimensions:  (time: 7, x: 1041, y: 1221)\n",
       "Coordinates:\n",
       "  * time     (time) datetime64[ns] 2008-01-15T23:41:48.500000 ...\n",
       "  * y        (y) float64 -4.066e+06 -4.066e+06 -4.066e+06 -4.066e+06 ...\n",
       "  * x        (x) float64 1.543e+06 1.543e+06 1.543e+06 1.543e+06 1.543e+06 ...\n",
       "Data variables:\n",
       "    blue     (time, y, x) int16 3326 3326 3326 3326 3326 3326 3326 3326 3326 ...\n",
       "    green    (time, y, x) int16 6061 5882 5942 5853 5942 5972 6150 7088 7493 ...\n",
       "    red      (time, y, x) int16 5943 5792 5767 5717 5868 5792 6194 6370 6370 ...\n",
       "    nir      (time, y, x) int16 6678 6434 6504 6364 6504 6434 6749 7932 8866 ...\n",
       "    swir1    (time, y, x) int16 3155 2939 3179 3035 3323 3418 3825 4926 6002 ...\n",
       "    swir2    (time, y, x) int16 1784 1618 1884 1718 1884 1984 2350 3182 4113 ...\n",
       "Attributes:\n",
       "    crs: EPSG:3577"
      ]
     },
     "execution_count": 5,
     "metadata": {},
     "output_type": "execute_result"
    }
   ],
   "source": [
    "data"
   ]
  },
  {
   "cell_type": "markdown",
   "metadata": {
    "deletable": true,
    "editable": true
   },
   "source": [
    "### Load specific measurements of a given product\n",
    "\n",
    "Some products have several *measurements* such as Landsat 5-TM, which for the *ls5_nbar_albers* product contains the following spectral measurements:\n",
    "\n",
    "* blue\n",
    "* green\n",
    "* red\n",
    "* nir\n",
    "* swir1\n",
    "* swir2\n",
    "\n",
    "In this next example we'll only load the *red* and *nir* measurements."
   ]
  },
  {
   "cell_type": "code",
   "execution_count": 6,
   "metadata": {
    "collapsed": true,
    "deletable": true,
    "editable": true
   },
   "outputs": [],
   "source": [
    "data = dc.load(product='ls5_nbar_albers', x=(149.25, 149.5), y=(-36.25, -36.5),\n",
    "               time=('2008-01-01', '2009-01-01'), measurements=['red', 'nir'])"
   ]
  },
  {
   "cell_type": "code",
   "execution_count": 7,
   "metadata": {
    "collapsed": false,
    "deletable": true,
    "editable": true
   },
   "outputs": [
    {
     "data": {
      "text/plain": [
       "<xarray.Dataset>\n",
       "Dimensions:  (time: 7, x: 1041, y: 1221)\n",
       "Coordinates:\n",
       "  * time     (time) datetime64[ns] 2008-01-15T23:41:48.500000 ...\n",
       "  * y        (y) float64 -4.066e+06 -4.066e+06 -4.066e+06 -4.066e+06 ...\n",
       "  * x        (x) float64 1.543e+06 1.543e+06 1.543e+06 1.543e+06 1.543e+06 ...\n",
       "Data variables:\n",
       "    red      (time, y, x) int16 5943 5792 5767 5717 5868 5792 6194 6370 6370 ...\n",
       "    nir      (time, y, x) int16 6678 6434 6504 6364 6504 6434 6749 7932 8866 ...\n",
       "Attributes:\n",
       "    crs: EPSG:3577"
      ]
     },
     "execution_count": 7,
     "metadata": {},
     "output_type": "execute_result"
    }
   ],
   "source": [
    "data"
   ]
  },
  {
   "cell_type": "markdown",
   "metadata": {
    "deletable": true,
    "editable": true
   },
   "source": [
    "Additional help can be found by calling *help(dc.load)*"
   ]
  },
  {
   "cell_type": "code",
   "execution_count": 8,
   "metadata": {
    "collapsed": false,
    "deletable": true,
    "editable": true,
    "scrolled": true
   },
   "outputs": [
    {
     "name": "stdout",
     "output_type": "stream",
     "text": [
      "Help on method load in module datacube.api.core:\n",
      "\n",
      "load(product=None, measurements=None, output_crs=None, resolution=None, resampling=None, stack=False, dask_chunks=None, like=None, fuse_func=None, align=None, datasets=None, **query) method of datacube.api.core.Datacube instance\n",
      "    Load data as an ``xarray`` object.  Each measurement will be a data variable in the :class:`xarray.Dataset`.\n",
      "    \n",
      "    See the `xarray documentation <http://xarray.pydata.org/en/stable/data-structures.html>`_ for usage of the\n",
      "    :class:`xarray.Dataset` and :class:`xarray.DataArray` objects.\n",
      "    \n",
      "    **Product and Measurements**\n",
      "        A product can be specified using the product name, or by search fields that uniquely describe a single\n",
      "        product.\n",
      "        ::\n",
      "    \n",
      "            product='ls5_ndvi_albers'\n",
      "    \n",
      "        See :meth:`list_products` for the list of products with their names and properties.\n",
      "    \n",
      "        A product can also be selected by searched using fields, but must only match one product.\n",
      "        ::\n",
      "    \n",
      "            platform='LANDSAT_5',\n",
      "            product_type='ndvi'\n",
      "    \n",
      "        The ``measurements`` argument is a list of measurement names, as listed in :meth:`list_measurements`.\n",
      "        If not provided, all measurements for the product will be returned.\n",
      "        ::\n",
      "    \n",
      "            measurements=['red', 'nir', swir2']\n",
      "    \n",
      "    **Dimensions**\n",
      "        Spatial dimensions can specified using the ``longitude``/``latitude`` and ``x``/``y`` fields.\n",
      "    \n",
      "        The CRS of this query is assumed to be WGS84/EPSG:4326 unless the ``crs`` field is supplied,\n",
      "        even if the stored data is in another projection or the `output_crs` is specified.\n",
      "        The dimensions ``longitude``/``latitude`` and ``x``/``y`` can be used interchangeably.\n",
      "        ::\n",
      "    \n",
      "            latitude=(-34.5, -35.2), longitude=(148.3, 148.7)\n",
      "    \n",
      "        or ::\n",
      "    \n",
      "            x=(1516200, 1541300), y=(-3867375, -3867350), crs='EPSG:3577'\n",
      "    \n",
      "        The ``time`` dimension can be specified using a tuple of datetime objects or strings with\n",
      "        `YYYY-MM-DD hh:mm:ss` format. E.g::\n",
      "    \n",
      "            time=('2001-04', '2001-07')\n",
      "    \n",
      "        For EO-specific datasets that are based around scenes, the time dimension can be reduced to the day level,\n",
      "        using solar day to keep scenes together.\n",
      "        ::\n",
      "    \n",
      "            group_by='solar_day'\n",
      "    \n",
      "        For data that has different values for the scene overlap the requires more complex rules for combining data,\n",
      "        such as GA's Pixel Quality dataset, a function can be provided to the merging into a single time slice.\n",
      "        ::\n",
      "    \n",
      "            def pq_fuser(dest, src):\n",
      "                valid_bit = 8\n",
      "                valid_val = (1 << valid_bit)\n",
      "    \n",
      "                no_data_dest_mask = ~(dest & valid_val).astype(bool)\n",
      "                np.copyto(dest, src, where=no_data_dest_mask)\n",
      "    \n",
      "                both_data_mask = (valid_val & dest & src).astype(bool)\n",
      "                np.copyto(dest, src & dest, where=both_data_mask)\n",
      "    \n",
      "    **Output**\n",
      "        If the `stack` argument is supplied, the returned data is stacked in a single ``DataArray``.\n",
      "        A new dimension is created with the name supplied.\n",
      "        This requires all of the data to be of the same datatype.\n",
      "    \n",
      "        To reproject or resample the data, supply the ``output_crs``, ``resolution``, ``resampling`` and ``align``\n",
      "        fields.\n",
      "    \n",
      "        To reproject data to 25m resolution for EPSG:3577::\n",
      "    \n",
      "            dc.load(product='ls5_nbar_albers', x=(148.15, 148.2), y=(-35.15, -35.2), time=('1990', '1991'),\n",
      "                    output_crs='EPSG:3577`, resolution=(-25, 25), resampling='cubic')\n",
      "    \n",
      "    :param str product: the product to be included.\n",
      "    \n",
      "    :param measurements:\n",
      "        measurements name or list of names to be included, as listed in :meth:`list_measurements`.\n",
      "            If a list is specified, the measurements will be returned in the order requested.\n",
      "            By default all available measurements are included.\n",
      "    \n",
      "    :type measurements: list(str), optional\n",
      "    \n",
      "    :param query:\n",
      "        Search parameters for products and dimension ranges as described above.\n",
      "    \n",
      "    :param str output_crs:\n",
      "        The CRS of the returned data.  If no CRS is supplied, the CRS of the stored data is used.\n",
      "    \n",
      "    :param (float,float) resolution:\n",
      "        A tuple of the spatial resolution of the returned data.\n",
      "        This includes the direction (as indicated by a positive or negative number).\n",
      "    \n",
      "        Typically when using most CRSs, the first number would be negative.\n",
      "    \n",
      "    :param str resampling:\n",
      "        The resampling method to use if re-projection is required.\n",
      "    \n",
      "        Valid values are: ``'nearest', 'cubic', 'bilinear', 'cubic_spline', 'lanczos', 'average'``\n",
      "    \n",
      "        Defaults to ``'nearest'``.\n",
      "    \n",
      "    :param (float,float) align:\n",
      "        Load data such that point 'align' lies on the pixel boundary.\n",
      "        Units are in the co-ordinate space of the output CRS.\n",
      "    \n",
      "        Default is (0,0)\n",
      "    \n",
      "    :param stack: The name of the new dimension used to stack the measurements.\n",
      "        If provided, the data is returned as a :class:`xarray.DataArray` rather than a :class:`xarray.Dataset`.\n",
      "    \n",
      "        If only one measurement is returned, the dimension name is not used and the dimension is dropped.\n",
      "    \n",
      "    :type stack: str or bool\n",
      "    \n",
      "    :param dict dask_chunks:\n",
      "        If the data should be lazily loaded using :class:`dask.array.Array`,\n",
      "        specify the chunking size in each output dimension.\n",
      "    \n",
      "        See the documentation on using `xarray with dask <http://xarray.pydata.org/en/stable/dask.html>`_\n",
      "        for more information.\n",
      "    \n",
      "    :param xarray.Dataset like:\n",
      "        Uses the output of a previous ``load()`` to form the basis of a request for another product.\n",
      "        E.g.::\n",
      "    \n",
      "            pq = dc.load(product='ls5_pq_albers', like=nbar_dataset)\n",
      "    \n",
      "    :param str group_by:\n",
      "        When specified, perform basic combining/reducing of the data.\n",
      "    \n",
      "    :param fuse_func:\n",
      "        Function used to fuse/combine/reduce data with the ``group_by`` parameter. By default,\n",
      "        data is simply copied over the top of each other, in a relatively undefined manner. This function can\n",
      "        perform a specific combining step, eg. for combining GA PQ data.\n",
      "    \n",
      "    :param datasets:\n",
      "        Optional. If this is a non-empty list of :class:`datacube.model.Dataset` objects, these will be loaded\n",
      "        instead of performing a database lookup.\n",
      "    \n",
      "    :return: Requested data in a :class:`xarray.Dataset`.\n",
      "        As a :class:`xarray.DataArray` if the ``stack`` variable is supplied.\n",
      "    \n",
      "    :rtype: :class:`xarray.Dataset` or :class:`xarray.DataArray`\n",
      "\n"
     ]
    }
   ],
   "source": [
    "help(dc.load)"
   ]
  },
  {
   "cell_type": "code",
   "execution_count": null,
   "metadata": {
    "collapsed": true,
    "deletable": true,
    "editable": true
   },
   "outputs": [],
   "source": []
  }
 ],
 "metadata": {
  "kernelspec": {
   "display_name": "Python 3",
   "language": "python",
   "name": "python3"
  },
  "language_info": {
   "codemirror_mode": {
    "name": "ipython",
    "version": 3
   },
   "file_extension": ".py",
   "mimetype": "text/x-python",
   "name": "python",
   "nbconvert_exporter": "python",
   "pygments_lexer": "ipython3",
   "version": "3.5.3"
  }
 },
 "nbformat": 4,
 "nbformat_minor": 1
}
