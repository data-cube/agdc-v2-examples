{
 "cells": [
  {
   "cell_type": "markdown",
   "metadata": {
    "deletable": true,
    "editable": true
   },
   "source": [
    "# Loading data from the datacube\n",
    "\n",
    "This notebook will briefly discuss how to load data from the datacube."
   ]
  },
  {
   "cell_type": "markdown",
   "metadata": {
    "deletable": true,
    "editable": true
   },
   "source": [
    "### Importing the datacube\n",
    "\n",
    "To start with, we'll import the datacube module and load an instance of the datacube and call our application name *load-data-example*."
   ]
  },
  {
   "cell_type": "code",
   "execution_count": null,
   "metadata": {
    "collapsed": true,
    "deletable": true,
    "editable": true
   },
   "outputs": [],
   "source": [
    "import datacube\n",
    "dc = datacube.Datacube(app='load-data-example')"
   ]
  },
  {
   "cell_type": "markdown",
   "metadata": {
    "deletable": true,
    "editable": true
   },
   "source": [
    "### Loading data\n",
    "\n",
    "Loading data from the datacube uses the *load* function.\n",
    "\n",
    "The function takes several arguments:\n",
    "* *product*; A specifc product to load\n",
    "* *x*; Defines the spatial region in the *x* dimension\n",
    "* *y*; Defines the spatial region in the *y* dimension\n",
    "* *time*; Defines the temporal extent.\n",
    "\n",
    "We'll load the Landsat 5-TM, **N**adir **B**i-directional reflectance ristribution function **A**djusted **R**eflectance, for the spatial region covering:\n",
    "\n",
    "* 149.25 -> 149.5 degrees longitude\n",
    "* -36.25 -> -36.5 degrees latitude\n",
    "\n",
    "and a temporal extent covering:\n",
    "\n",
    "* 2008-01-01 -> 2009-01-01"
   ]
  },
  {
   "cell_type": "code",
   "execution_count": null,
   "metadata": {
    "collapsed": true,
    "deletable": true,
    "editable": true
   },
   "outputs": [],
   "source": [
    "data = dc.load(product='ls5_nbar_albers', x=(149.25, 149.5), y=(-36.25, -36.5),\n",
    "               time=('2008-01-01', '2009-01-01'))"
   ]
  },
  {
   "cell_type": "code",
   "execution_count": null,
   "metadata": {
    "collapsed": false,
    "deletable": true,
    "editable": true
   },
   "outputs": [],
   "source": [
    "data"
   ]
  },
  {
   "cell_type": "markdown",
   "metadata": {
    "deletable": true,
    "editable": true
   },
   "source": [
    "### Load data via a products native co-ordinate system\n",
    "\n",
    "By default, the *x* and *y* arguments accept queries in a geographical co-ordinate system identified by the EPSG code *4326*, which is the same as within Google Earth.\n",
    "\n",
    "The user can also query via the native co-ordinate system that the product is stored in, and supply the *crs* argument."
   ]
  },
  {
   "cell_type": "code",
   "execution_count": null,
   "metadata": {
    "collapsed": false,
    "deletable": true,
    "editable": true
   },
   "outputs": [],
   "source": [
    "data = dc.load(product='ls5_nbar_albers', x=(1543137.5, 1569137.5), y=(-4065537.5, -4096037.5),\n",
    "               time=('2008-01-01', '2009-01-01'), crs='EPSG:3577')"
   ]
  },
  {
   "cell_type": "code",
   "execution_count": null,
   "metadata": {
    "collapsed": false,
    "deletable": true,
    "editable": true
   },
   "outputs": [],
   "source": [
    "data"
   ]
  },
  {
   "cell_type": "markdown",
   "metadata": {
    "deletable": true,
    "editable": true
   },
   "source": [
    "### Load specific measurements of a given product\n",
    "\n",
    "Some products have several *measurements* such as Landsat 5-TM, which for the *ls5_nbar_albers* product contains the following spectral measurements:\n",
    "\n",
    "* blue\n",
    "* green\n",
    "* red\n",
    "* nir\n",
    "* swir1\n",
    "* swir2\n",
    "\n",
    "In this next example we'll only load the *red* and *nir* measurements."
   ]
  },
  {
   "cell_type": "code",
   "execution_count": null,
   "metadata": {
    "collapsed": true,
    "deletable": true,
    "editable": true
   },
   "outputs": [],
   "source": [
    "data = dc.load(product='ls5_nbar_albers', x=(149.25, 149.5), y=(-36.25, -36.5),\n",
    "               time=('2008-01-01', '2009-01-01'), measurements=['red', 'nir'])"
   ]
  },
  {
   "cell_type": "code",
   "execution_count": null,
   "metadata": {
    "collapsed": false,
    "deletable": true,
    "editable": true
   },
   "outputs": [],
   "source": [
    "data"
   ]
  },
  {
   "cell_type": "markdown",
   "metadata": {
    "deletable": true,
    "editable": true
   },
   "source": [
    "Additional help can be found by calling *help(dc.load)*"
   ]
  },
  {
   "cell_type": "code",
   "execution_count": null,
   "metadata": {
    "collapsed": false,
    "deletable": true,
    "editable": true,
    "scrolled": true
   },
   "outputs": [],
   "source": [
    "help(dc.load)"
   ]
  },
  {
   "cell_type": "code",
   "execution_count": null,
   "metadata": {
    "collapsed": true,
    "deletable": true,
    "editable": true
   },
   "outputs": [],
   "source": []
  }
 ],
 "metadata": {
  "kernelspec": {
   "display_name": "Python 2",
   "language": "python",
   "name": "python2"
  },
  "language_info": {
   "codemirror_mode": {
    "name": "ipython",
    "version": 2
   },
   "file_extension": ".py",
   "mimetype": "text/x-python",
   "name": "python",
   "nbconvert_exporter": "python",
   "pygments_lexer": "ipython2",
   "version": "2.7.12"
  }
 },
 "nbformat": 4,
 "nbformat_minor": 1
}
